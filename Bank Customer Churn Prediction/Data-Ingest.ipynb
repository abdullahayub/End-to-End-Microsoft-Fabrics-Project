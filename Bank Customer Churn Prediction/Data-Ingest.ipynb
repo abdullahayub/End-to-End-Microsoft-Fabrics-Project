{
 "cells": [
  {
   "cell_type": "markdown",
   "id": "652c150e-e033-49f6-aacc-b1e3a807711d",
   "metadata": {
    "nteract": {
     "transient": {
      "deleting": false
     }
    }
   },
   "source": [
    "# Part 1: Ingest data into a Microsoft Fabric lakehouse using Apache Spark\n",
    "\n",
    "Ingest data into Fabric lakehouses in delta lake format. Some important terms to understand:\n"
   ]
  },
  {
   "cell_type": "markdown",
   "id": "faa52bd2-a2ca-4cc4-90c2-e37b69df136d",
   "metadata": {
    "nteract": {
     "transient": {
      "deleting": false
     }
    }
   },
   "source": [
    "## Bank churn data"
   ]
  },
  {
   "cell_type": "markdown",
   "id": "90eec3b3-1a5d-4a3a-bfbd-78b0b035f7a9",
   "metadata": {
    "nteract": {
     "transient": {
      "deleting": false
     }
    }
   },
   "source": [
    "\n",
    "The dataset contains churn status of 10,000 customers. It also includes attributes that could impact churn such as:\n",
    "\n",
    "* Credit score\n",
    "* Geographical location (Germany, France, Spain)\n",
    "* Gender (male, female)\n",
    "* Age\n",
    "* Tenure (years of being bank's customer)\n",
    "* Account balance\n",
    "* Estimated salary\n",
    "* Number of products that a customer has purchased through the bank\n",
    "* Credit card status (whether a customer has a credit card or not)\n",
    "* Active member status (whether an active bank's customer or not)\n",
    "\n",
    "The dataset also includes columns such as row number, customer ID, and customer surname that should have no impact on customer's decision to leave the bank. \n",
    "\n",
    "The event that defines the customer's churn is the closing of the customer's bank account. The column `exited` in the dataset refers to customer's abandonment. There isn't much context available about these attributes so you have to proceed without having background information about the dataset. The aim is to understand how these attributes contribute to the `exited` status.\n",
    "\n",
    "Example rows from the dataset:\n",
    "\n",
    "|\"CustomerID\"|\"Surname\"|\"CreditScore\"|\"Geography\"|\"Gender\"|\"Age\"|\"Tenure\"|\"Balance\"|\"NumOfProducts\"|\"HasCrCard\"|\"IsActiveMember\"|\"EstimatedSalary\"|\"Exited\"|\n",
    "|---|---|---|---|---|---|---|---|---|---|---|---|---|\n",
    "|15634602|Hargrave|619|France|Female|42|2|0.00|1|1|1|101348.88|1|\n",
    "|15647311|Hill|608|Spain|Female|41|1|83807.86|1|0|1|112542.58|0|\n"
   ]
  },
  {
   "cell_type": "markdown",
   "id": "10dee645-ca94-450f-b48c-a35da422793e",
   "metadata": {
    "nteract": {
     "transient": {
      "deleting": false
     }
    }
   },
   "source": [
    "### Download dataset and upload to lakehouse\n"
   ]
  },
  {
   "cell_type": "code",
   "execution_count": 1,
   "id": "ae3d4f32-55a2-45f0-bda6-19ac340b708c",
   "metadata": {
    "collapsed": false,
    "jupyter": {
     "outputs_hidden": false,
     "source_hidden": false
    },
    "microsoft": {
     "language": "python",
     "language_group": "synapse_pyspark"
    },
    "ms_comment_ranges": {},
    "ms_comments": [],
    "nteract": {
     "transient": {
      "deleting": false
     }
    }
   },
   "outputs": [
    {
     "data": {
      "application/vnd.livy.statement-meta+json": {
       "execution_finish_time": "2024-10-07T02:44:16.0529665Z",
       "execution_start_time": "2024-10-07T02:44:14.0947066Z",
       "livy_statement_state": "available",
       "normalized_state": "finished",
       "parent_msg_id": "62b19886-031a-4daf-be51-fef8eae47fb2",
       "queued_time": "2024-10-07T02:44:04.9550664Z",
       "session_id": "f6db5c09-83aa-467a-858a-5d2eebfafb3b",
       "session_start_time": "2024-10-07T02:44:05.239229Z",
       "spark_pool": null,
       "state": "finished",
       "statement_id": 3,
       "statement_ids": [
        3
       ]
      },
      "text/plain": [
       "StatementMeta(, f6db5c09-83aa-467a-858a-5d2eebfafb3b, 3, Finished, Available, Finished)"
      ]
     },
     "metadata": {},
     "output_type": "display_data"
    }
   ],
   "source": [
    "IS_CUSTOM_DATA = False  # if TRUE, dataset has to be uploaded manually\n",
    "\n",
    "DATA_ROOT = \"/lakehouse/default\"\n",
    "DATA_FOLDER = \"Files/churn\"  # folder with data files\n",
    "DATA_FILE = \"churn.csv\"  # data file name"
   ]
  },
  {
   "cell_type": "code",
   "execution_count": 2,
   "id": "696ee4b1-dbea-4479-af62-69135be55634",
   "metadata": {
    "collapsed": false,
    "jupyter": {
     "outputs_hidden": false,
     "source_hidden": false
    },
    "microsoft": {
     "language": "python",
     "language_group": "synapse_pyspark"
    },
    "nteract": {
     "transient": {
      "deleting": false
     }
    }
   },
   "outputs": [
    {
     "data": {
      "application/vnd.livy.statement-meta+json": {
       "execution_finish_time": "2024-10-07T02:44:23.3779513Z",
       "execution_start_time": "2024-10-07T02:44:20.8809493Z",
       "livy_statement_state": "available",
       "normalized_state": "finished",
       "parent_msg_id": "fab32593-4700-44cd-ae68-57c9b0b56aa2",
       "queued_time": "2024-10-07T02:44:20.4356743Z",
       "session_id": "f6db5c09-83aa-467a-858a-5d2eebfafb3b",
       "session_start_time": null,
       "spark_pool": null,
       "state": "finished",
       "statement_id": 4,
       "statement_ids": [
        4
       ]
      },
      "text/plain": [
       "StatementMeta(, f6db5c09-83aa-467a-858a-5d2eebfafb3b, 4, Finished, Available, Finished)"
      ]
     },
     "metadata": {},
     "output_type": "display_data"
    },
    {
     "name": "stdout",
     "output_type": "stream",
     "text": [
      "Downloaded demo data files into lakehouse.\n"
     ]
    }
   ],
   "source": [
    "import os, requests\n",
    "if not IS_CUSTOM_DATA:\n",
    "# Using synapse blob, this can be done in one line\n",
    "\n",
    "# Download demo data files into lakehouse if not exist\n",
    "    remote_url = \"https://synapseaisolutionsa.blob.core.windows.net/public/bankcustomerchurn\"\n",
    "    file_list = [DATA_FILE]\n",
    "    download_path = f\"{DATA_ROOT}/{DATA_FOLDER}/raw\"\n",
    "\n",
    "    if not os.path.exists(\"/lakehouse/default\"):\n",
    "        raise FileNotFoundError(\n",
    "            \"Default lakehouse not found, please add a lakehouse and restart the session.\"\n",
    "        )\n",
    "    os.makedirs(download_path, exist_ok=True)\n",
    "    for fname in file_list:\n",
    "        if not os.path.exists(f\"{download_path}/{fname}\"):\n",
    "            r = requests.get(f\"{remote_url}/{fname}\", timeout=30)\n",
    "            with open(f\"{download_path}/{fname}\", \"wb\") as f:\n",
    "                f.write(r.content)\n",
    "    print(\"Downloaded demo data files into lakehouse.\")"
   ]
  }
 ],
 "metadata": {
  "dependencies": {
   "lakehouse": {
    "default_lakehouse": "117ae95b-396a-40a8-8bb8-9a79779c8269",
    "default_lakehouse_name": "Customer_Churn",
    "default_lakehouse_workspace_id": "4d5e2809-9241-454b-807d-70a977418c63"
   }
  },
  "kernel_info": {
   "name": "synapse_pyspark"
  },
  "kernelspec": {
   "display_name": "Python 3 (ipykernel)",
   "language": "python",
   "name": "python3"
  },
  "language_info": {
   "codemirror_mode": {
    "name": "ipython",
    "version": 3
   },
   "file_extension": ".py",
   "mimetype": "text/x-python",
   "name": "python",
   "nbconvert_exporter": "python",
   "pygments_lexer": "ipython3",
   "version": "3.11.7"
  },
  "microsoft": {
   "language": "python",
   "language_group": "synapse_pyspark",
   "ms_spell_check": {
    "ms_spell_check_language": "en"
   }
  },
  "notebook_environment": {},
  "nteract": {
   "version": "nteract-front-end@1.0.0"
  },
  "save_output": true,
  "spark_compute": {
   "compute_id": "/trident/default",
   "session_options": {
    "conf": {
     "spark.synapse.nbs.session.timeout": "1200000"
    },
    "enableDebugMode": false
   }
  },
  "widgets": {}
 },
 "nbformat": 4,
 "nbformat_minor": 5
}
